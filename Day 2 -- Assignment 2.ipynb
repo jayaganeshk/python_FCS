{
 "cells": [
  {
   "cell_type": "markdown",
   "metadata": {},
   "source": [
    "# Day 2 -- Assignment 2\n",
    "                                            K Jaya Ganesh"
   ]
  },
  {
   "cell_type": "code",
   "execution_count": null,
   "metadata": {},
   "outputs": [],
   "source": [
    "#printing students grade when marks are given"
   ]
  },
  {
   "cell_type": "code",
   "execution_count": 8,
   "metadata": {},
   "outputs": [
    {
     "name": "stdout",
     "output_type": "stream",
     "text": [
      "Enter your marks: 64\n",
      "Your grade is D\n"
     ]
    }
   ],
   "source": [
    "#input module\n",
    "\n",
    "marks = int (input (\"Enter your marks: \"))\n",
    "\n",
    "#logic moduleS\n",
    "\n",
    "if (marks >= 85):\n",
    "    print (\"Your grade is A\")\n",
    "elif (marks >= 75 and marks <= 84):\n",
    "    print (\"Your grade is B\")\n",
    "elif (marks >= 65 and marks <= 74):\n",
    "    print (\"Your grade is C\")\n",
    "elif (marks >= 55 and marks <= 64):\n",
    "    print (\"Your grade is D\")\n",
    "elif (marks >= 45 and marks <= 54):\n",
    "    print (\"Your grade is E\")\n",
    "else:\n",
    "    print (\"Need improvement\")"
   ]
  },
  {
   "cell_type": "code",
   "execution_count": null,
   "metadata": {},
   "outputs": [],
   "source": []
  }
 ],
 "metadata": {
  "kernelspec": {
   "display_name": "Python 3",
   "language": "python",
   "name": "python3"
  },
  "language_info": {
   "codemirror_mode": {
    "name": "ipython",
    "version": 3
   },
   "file_extension": ".py",
   "mimetype": "text/x-python",
   "name": "python",
   "nbconvert_exporter": "python",
   "pygments_lexer": "ipython3",
   "version": "3.7.6"
  }
 },
 "nbformat": 4,
 "nbformat_minor": 4
}
