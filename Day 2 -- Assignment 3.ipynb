{
 "cells": [
  {
   "cell_type": "markdown",
   "metadata": {},
   "source": [
    "# Day 2 -- Assignment 3\n",
    "                                            K Jaya Ganesh"
   ]
  },
  {
   "cell_type": "code",
   "execution_count": 17,
   "metadata": {},
   "outputs": [
    {
     "name": "stdout",
     "output_type": "stream",
     "text": [
      "Enter your guess: 232\n",
      "\n",
      "try again\n",
      "India's score is:  101\n",
      "your guess is:  232\n"
     ]
    }
   ],
   "source": [
    "import random\n",
    "\n",
    "def game(i,r):\n",
    "    if i< 1 or i > 250:\n",
    "        print (\"your guess is is either too low or too high for an T20 match \")    \n",
    "    elif abs(i - r) < 10: \n",
    "        print(\"\")\n",
    "        print (\"Guess is correct\")\n",
    "        print (\"India's score is: \", r)\n",
    "        print (\"your guess is: \",i)\n",
    "    else:\n",
    "        print(\"\")\n",
    "        print (\"try again\")\n",
    "        print (\"India's score is: \", r)\n",
    "        print (\"your guess is: \",i)\n",
    "\n",
    "#generating random number\n",
    "r = random.randrange (1,251)\n",
    "\n",
    "#taking input from user\n",
    "i = int(input(\"Enter your guess: \")) \n",
    "\n",
    "game(i,r)"
   ]
  },
  {
   "cell_type": "code",
   "execution_count": null,
   "metadata": {},
   "outputs": [],
   "source": []
  }
 ],
 "metadata": {
  "kernelspec": {
   "display_name": "Python 3",
   "language": "python",
   "name": "python3"
  },
  "language_info": {
   "codemirror_mode": {
    "name": "ipython",
    "version": 3
   },
   "file_extension": ".py",
   "mimetype": "text/x-python",
   "name": "python",
   "nbconvert_exporter": "python",
   "pygments_lexer": "ipython3",
   "version": "3.7.6"
  }
 },
 "nbformat": 4,
 "nbformat_minor": 4
}
