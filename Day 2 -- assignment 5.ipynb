{
 "cells": [
  {
   "cell_type": "markdown",
   "metadata": {},
   "source": [
    "# Day 2 -- Assignment 5\n",
    "                                    K Jaya Ganesh"
   ]
  },
  {
   "cell_type": "code",
   "execution_count": null,
   "metadata": {},
   "outputs": [
    {
     "name": "stdout",
     "output_type": "stream",
     "text": [
      "enter u/d/l/r:  u\n",
      "your curret position is:  [0, 1]\n",
      "enter u/d/l/r:  u\n",
      "your curret position is:  [0, 2]\n",
      "enter u/d/l/r:  l\n",
      "your curret position is:  [-1, 2]\n",
      "enter u/d/l/r:  l\n",
      "your curret position is:  [-2, 2]\n"
     ]
    }
   ],
   "source": [
    "i = [0,0]\n",
    "\n",
    "\n",
    "def move(v):\n",
    "    if v == \"u\":\n",
    "        i[1] = i[1]  + 1\n",
    "        print(\"your curret position is: \", i)\n",
    "    elif v == \"d\":\n",
    "        i[1] = i[1]  - 1\n",
    "        print(\"your curret position is: \", i)\n",
    "    elif v == \"l\":\n",
    "        i[0] = i[0]  - 1\n",
    "        print(\"your curret position is: \", i)\n",
    "    elif v == \"r\":\n",
    "        i[0] = i[0]  + 1\n",
    "        print(\"your curret position is: \", i)\n",
    "        \n",
    "x = 2\n",
    "while x > 0 :\n",
    "    v = str(input(\"enter u/d/l/r:  \"))\n",
    "    move(v)"
   ]
  },
  {
   "cell_type": "code",
   "execution_count": null,
   "metadata": {},
   "outputs": [],
   "source": []
  }
 ],
 "metadata": {
  "kernelspec": {
   "display_name": "Python 3",
   "language": "python",
   "name": "python3"
  },
  "language_info": {
   "codemirror_mode": {
    "name": "ipython",
    "version": 3
   },
   "file_extension": ".py",
   "mimetype": "text/x-python",
   "name": "python",
   "nbconvert_exporter": "python",
   "pygments_lexer": "ipython3",
   "version": "3.7.6"
  }
 },
 "nbformat": 4,
 "nbformat_minor": 4
}
