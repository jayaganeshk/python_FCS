{
 "cells": [
  {
   "cell_type": "markdown",
   "metadata": {},
   "source": [
    "# Day 2 -- assignment 4\n",
    "                                   K Jaya Ganesh"
   ]
  },
  {
   "cell_type": "markdown",
   "metadata": {},
   "source": [
    "\n"
   ]
  },
  {
   "cell_type": "code",
   "execution_count": 1,
   "metadata": {},
   "outputs": [
    {
     "name": "stdout",
     "output_type": "stream",
     "text": [
      "Enter Width of your photo: 450\n",
      "Enter Height of your photo: 450\n",
      "Image Accepted\n"
     ]
    }
   ],
   "source": [
    "#enter \n",
    "\n",
    "w = float(input(\"Enter Width of your photo: \"))\n",
    "h = float(input(\"Enter Height of your photo: \"))\n",
    "L = 450\n",
    "\n",
    "if w < L or h < L:\n",
    "    print (\"Upload another image\")\n",
    "else:\n",
    "    if (w == L) and (h == L):\n",
    "        print (\"Image Accepted\")\n",
    "    else:\n",
    "        print (\"crop it\")\n",
    "    "
   ]
  }
 ],
 "metadata": {
  "kernelspec": {
   "display_name": "Python 3",
   "language": "python",
   "name": "python3"
  },
  "language_info": {
   "codemirror_mode": {
    "name": "ipython",
    "version": 3
   },
   "file_extension": ".py",
   "mimetype": "text/x-python",
   "name": "python",
   "nbconvert_exporter": "python",
   "pygments_lexer": "ipython3",
   "version": "3.7.6"
  }
 },
 "nbformat": 4,
 "nbformat_minor": 4
}
